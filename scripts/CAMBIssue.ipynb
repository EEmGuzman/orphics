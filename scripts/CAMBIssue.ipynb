{
 "cells": [
  {
   "cell_type": "markdown",
   "metadata": {},
   "source": [
    "# Possible pycamb persistence issue"
   ]
  },
  {
   "cell_type": "code",
   "execution_count": 7,
   "metadata": {},
   "outputs": [
    {
     "name": "stdout",
     "output_type": "stream",
     "text": [
      "0.1.6.1\n"
     ]
    }
   ],
   "source": [
    "from __future__ import print_function\n",
    "import camb\n",
    "print(camb.__version__)"
   ]
  },
  {
   "cell_type": "code",
   "execution_count": 8,
   "metadata": {},
   "outputs": [],
   "source": [
    "pars1 = camb.CAMBparams()\n",
    "pars1.set_cosmology(H0=75.0,mnu=0.06)\n",
    "pars1.InitPower.set_params()\n",
    "results1 = camb.get_results(pars1)       "
   ]
  },
  {
   "cell_type": "code",
   "execution_count": 13,
   "metadata": {},
   "outputs": [
    {
     "name": "stdout",
     "output_type": "stream",
     "text": [
      "13935.85748861403\n"
     ]
    }
   ],
   "source": [
    "chi1 = results1.comoving_radial_distance(1100.)\n",
    "print(chi1)"
   ]
  },
  {
   "cell_type": "code",
   "execution_count": 10,
   "metadata": {},
   "outputs": [],
   "source": [
    "pars2 = camb.CAMBparams()\n",
    "pars2.set_cosmology(H0=65.0,mnu=0.180)\n",
    "pars2.InitPower.set_params()\n",
    "results2 = camb.get_results(pars2) "
   ]
  },
  {
   "cell_type": "code",
   "execution_count": 15,
   "metadata": {},
   "outputs": [
    {
     "name": "stdout",
     "output_type": "stream",
     "text": [
      "13935.85748861403\n"
     ]
    }
   ],
   "source": [
    "chi2 = results2.comoving_radial_distance(1100.)\n",
    "print(chi2)"
   ]
  },
  {
   "cell_type": "code",
   "execution_count": 17,
   "metadata": {},
   "outputs": [
    {
     "name": "stdout",
     "output_type": "stream",
     "text": [
      "13935.85748861403\n"
     ]
    }
   ],
   "source": [
    "chi1_again = results1.comoving_radial_distance(1100.)\n",
    "print(chi1_again)"
   ]
  },
  {
   "cell_type": "code",
   "execution_count": null,
   "metadata": {},
   "outputs": [],
   "source": []
  }
 ],
 "metadata": {
  "kernelspec": {
   "display_name": "Python 2",
   "language": "python",
   "name": "python2"
  },
  "language_info": {
   "codemirror_mode": {
    "name": "ipython",
    "version": 3
   },
   "file_extension": ".py",
   "mimetype": "text/x-python",
   "name": "python",
   "nbconvert_exporter": "python",
   "pygments_lexer": "ipython3",
   "version": "3.6.3"
  }
 },
 "nbformat": 4,
 "nbformat_minor": 2
}
