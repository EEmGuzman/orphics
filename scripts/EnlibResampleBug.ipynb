{
 "cells": [
  {
   "cell_type": "code",
   "execution_count": 30,
   "metadata": {
    "autoscroll": false,
    "collapsed": false,
    "ein.hycell": false,
    "ein.tags": "worksheet-0",
    "slideshow": {
     "slide_type": "-"
    }
   },
   "outputs": [
    {
     "name": "stdout",
     "output_type": "stream",
     "text": [
      "The autoreload extension is already loaded. To reload it, use:\n",
      "  %reload_ext autoreload\n"
     ]
    }
   ],
   "source": [
    "%load_ext autoreload\n",
    "%autoreload 2\n",
    "from __future__ import print_function\n",
    "import matplotlib.pyplot as plt\n",
    "from enlib import enmap,resample\n",
    "import numpy as np\n",
    "import os,sys"
   ]
  },
  {
   "cell_type": "code",
   "execution_count": 10,
   "metadata": {
    "autoscroll": false,
    "collapsed": false,
    "ein.hycell": false,
    "ein.tags": "worksheet-0",
    "slideshow": {
     "slide_type": "-"
    }
   },
   "outputs": [],
   "source": []
  },
  {
   "cell_type": "code",
   "execution_count": null,
   "metadata": {
    "autoscroll": false,
    "collapsed": false,
    "ein.hycell": false,
    "ein.tags": "worksheet-0",
    "slideshow": {
     "slide_type": "-"
    }
   },
   "outputs": [],
   "source": []
  },
  {
   "cell_type": "code",
   "execution_count": 31,
   "metadata": {
    "autoscroll": false,
    "collapsed": false,
    "ein.hycell": false,
    "ein.tags": "worksheet-0",
    "slideshow": {
     "slide_type": "-"
    }
   },
   "outputs": [
    {
     "name": "stdout",
     "output_type": "stream",
     "text": [
      "(60, 60) (60, 60)\n"
     ]
    },
    {
     "data": {
      "text/plain": [
       "<matplotlib.image.AxesImage at 0x7f360867ffd0>"
      ]
     },
     "execution_count": 31,
     "metadata": {},
     "output_type": "execute_result"
    },
    {
     "data": {
      "image/png": "[encoded data removed]",
      "text/plain": [
       "<Figure size 432x288 with 1 Axes>"
      ]
     },
     "metadata": {},
     "output_type": "display_data"
    }
   ],
   "source": [
    "\n",
    "arc = 30.*np.pi/180./60. # 30 arcmin wide stamp\n",
    "px = 0.1*np.pi/180./60.  # high resolution pixel size\n",
    "dpx = 0.5*np.pi/180./60. # low resolution pixel size\n",
    "\n",
    "# high res geometry\n",
    "shape,wcs = enmap.geometry(pos=[[-arc/2.,-arc/2.],[arc/2.,arc/2.]],res=px)\n",
    "modrmap = enmap.modrmap(shape,wcs)\n",
    "sigma = 2.0*np.pi/180./60.\n",
    "a = np.exp(-modrmap**2./2./sigma**2.) # test gaussian\n",
    "\n",
    "# downsampled shape (factor of 5)\n",
    "dshape0 = tuple((np.array(shape)*(px/dpx)).astype(np.int))\n",
    "\n",
    "# downsampled gaussian\n",
    "b = resample.resample_fft(a,dshape0)\n",
    "\n",
    "# downsampled geometry\n",
    "dshape,dwcs = enmap.geometry(pos=[[-arc/2.,-arc/2.],[arc/2.,arc/2.]],res=dpx)\n",
    "print(dshape0,dshape) # check shapes match\n",
    "\n",
    "# create low res gaussian native to this geometry\n",
    "dmodrmap = enmap.modrmap(dshape,dwcs)\n",
    "c = np.exp(-dmodrmap**2./2./sigma**2.)\n",
    "\n",
    "# plot difference of native to downsampled\n",
    "plt.imshow(c-b)\n",
    "\n"
   ]
  },
  {
   "cell_type": "code",
   "execution_count": null,
   "metadata": {
    "autoscroll": false,
    "collapsed": false,
    "ein.hycell": false,
    "ein.tags": "worksheet-0",
    "slideshow": {
     "slide_type": "-"
    }
   },
   "outputs": [],
   "source": []
  }
 ],
 "metadata": {
  "kernelspec": {
   "display_name": "Python 3",
   "name": "python3"
  },
  "name": "DmeffXcorr.ipynb"
 },
 "nbformat": 4,
 "nbformat_minor": 2
}
