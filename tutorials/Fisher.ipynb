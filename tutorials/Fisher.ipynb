{
 "cells": [
  {
   "cell_type": "code",
   "execution_count": 51,
   "metadata": {},
   "outputs": [
    {
     "name": "stdout",
     "output_type": "stream",
     "text": [
      "The autoreload extension is already loaded. To reload it, use:\n",
      "  %reload_ext autoreload\n"
     ]
    }
   ],
   "source": [
    "%load_ext autoreload\n",
    "%autoreload 2\n",
    "from __future__ import print_function\n",
    "\n",
    "# The main mapwork module\n",
    "from enlib import enmap\n",
    "\n",
    "import numpy as np\n",
    "# Tools for working with enmaps, i/o, catalogs and statistics\n",
    "from orphics import maps,io,stats,cosmology,lensing"
   ]
  },
  {
   "cell_type": "code",
   "execution_count": 54,
   "metadata": {},
   "outputs": [
    {
     "name": "stdout",
     "output_type": "stream",
     "text": [
      "initializing power...\n",
      "Initializing CMB window..\n",
      "0 0.5\n",
      "('Initializing galaxy window for ', '0', ' ...')\n",
      "1 1.0\n",
      "('Initializing galaxy window for ', '1', ' ...')\n",
      "2 1.5\n",
      "('Initializing galaxy window for ', '2', ' ...')\n",
      "3 2.0\n",
      "('Initializing galaxy window for ', '3', ' ...')\n",
      "4 2.5\n",
      "('Initializing galaxy window for ', '4', ' ...')\n",
      "(5, 5, 5000)\n"
     ]
    }
   ],
   "source": [
    "\n",
    "def get_cls(iparams,ells):\n",
    "    lc = cosmology.LimberCosmology(iparams.copy(),low_acc=False,lmax=5000,skipCls=True,kmax=10,nonlinear=True)\n",
    "    zwid = 0.1\n",
    "    zs = np.arange(0.5,3,0.5)\n",
    "    for i,z in enumerate(zs):\n",
    "        print(i,z)\n",
    "        lc.addStepNz(\"%d\" % i,z-zwid/2.,z+zwid/2.)\n",
    "        \n",
    "    lc.generateCls(ells)\n",
    "    ps = np.zeros((zs.size,zs.size,ells.size))\n",
    "    for i in range(len(zs)):\n",
    "        for j in range(i,len(zs)):\n",
    "            ps[i,j] = lc.getCl(\"%d\" % i,\"%d\" % j)\n",
    "            ps[j,i] = ps[i,j].copy()\n",
    "    \n",
    "    return ps\n",
    "     \n",
    "ells = np.arange(0,5000,1)\n",
    "ps_fid = get_cls(cosmology.defaultCosmology,ells)\n",
    "print(ps.shape)"
   ]
  },
  {
   "cell_type": "code",
   "execution_count": 55,
   "metadata": {},
   "outputs": [
    {
     "name": "stdout",
     "output_type": "stream",
     "text": [
      "{'tau': 0.06, 'As': 2.2e-09, 'omch2': 0.1247, 'w0': -1.0, 'H0': 67.0, 'ns': 0.96, 'ombh2': 0.0223, 'mnu': 0.06}\n"
     ]
    }
   ],
   "source": [
    "params = cosmology.defaultCosmology\n",
    "print(params)"
   ]
  },
  {
   "cell_type": "code",
   "execution_count": 56,
   "metadata": {},
   "outputs": [
    {
     "name": "stdout",
     "output_type": "stream",
     "text": [
      "initializing power...\n",
      "Initializing CMB window..\n",
      "0 0.5\n",
      "('Initializing galaxy window for ', '0', ' ...')\n",
      "1 1.0\n",
      "('Initializing galaxy window for ', '1', ' ...')\n",
      "2 1.5\n",
      "('Initializing galaxy window for ', '2', ' ...')\n",
      "3 2.0\n",
      "('Initializing galaxy window for ', '3', ' ...')\n",
      "4 2.5\n",
      "('Initializing galaxy window for ', '4', ' ...')\n",
      "initializing power...\n",
      "Initializing CMB window..\n",
      "0 0.5\n",
      "('Initializing galaxy window for ', '0', ' ...')\n",
      "1 1.0\n",
      "('Initializing galaxy window for ', '1', ' ...')\n",
      "2 1.5\n",
      "('Initializing galaxy window for ', '2', ' ...')\n",
      "3 2.0\n",
      "('Initializing galaxy window for ', '3', ' ...')\n",
      "4 2.5\n",
      "('Initializing galaxy window for ', '4', ' ...')\n",
      "initializing power...\n",
      "Initializing CMB window..\n",
      "0 0.5\n",
      "('Initializing galaxy window for ', '0', ' ...')\n",
      "1 1.0\n",
      "('Initializing galaxy window for ', '1', ' ...')\n",
      "2 1.5\n",
      "('Initializing galaxy window for ', '2', ' ...')\n",
      "3 2.0\n",
      "('Initializing galaxy window for ', '3', ' ...')\n",
      "4 2.5\n",
      "('Initializing galaxy window for ', '4', ' ...')\n",
      "initializing power...\n",
      "Initializing CMB window..\n",
      "0 0.5\n",
      "('Initializing galaxy window for ', '0', ' ...')\n",
      "1 1.0\n",
      "('Initializing galaxy window for ', '1', ' ...')\n",
      "2 1.5\n",
      "('Initializing galaxy window for ', '2', ' ...')\n",
      "3 2.0\n",
      "('Initializing galaxy window for ', '3', ' ...')\n",
      "4 2.5\n",
      "('Initializing galaxy window for ', '4', ' ...')\n",
      "initializing power...\n",
      "Initializing CMB window..\n",
      "0 0.5\n",
      "('Initializing galaxy window for ', '0', ' ...')\n",
      "1 1.0\n",
      "('Initializing galaxy window for ', '1', ' ...')\n",
      "2 1.5\n",
      "('Initializing galaxy window for ', '2', ' ...')\n",
      "3 2.0\n",
      "('Initializing galaxy window for ', '3', ' ...')\n",
      "4 2.5\n",
      "('Initializing galaxy window for ', '4', ' ...')\n",
      "initializing power...\n",
      "Initializing CMB window..\n",
      "0 0.5\n",
      "('Initializing galaxy window for ', '0', ' ...')\n",
      "1 1.0\n",
      "('Initializing galaxy window for ', '1', ' ...')\n",
      "2 1.5\n",
      "('Initializing galaxy window for ', '2', ' ...')\n",
      "3 2.0\n",
      "('Initializing galaxy window for ', '3', ' ...')\n",
      "4 2.5\n",
      "('Initializing galaxy window for ', '4', ' ...')\n"
     ]
    }
   ],
   "source": [
    "vparams = ['As','omch2','mnu']\n",
    "steps = [0.1e-9,0.003,0.02]\n",
    "\n",
    "dps = {}\n",
    "for vparam,step in zip(vparams,steps):\n",
    "    pparams = params.copy()\n",
    "    pparams[vparam] += step/2.\n",
    "    ps_up = get_cls(pparams,ells)\n",
    "    \n",
    "    pparams = params.copy()\n",
    "    pparams[vparam] -= step/2.\n",
    "    ps_dn = get_cls(pparams,ells)\n",
    "    \n",
    "    dps[vparam] = (ps_up-ps_dn)/step"
   ]
  },
  {
   "cell_type": "code",
   "execution_count": 57,
   "metadata": {},
   "outputs": [
    {
     "name": "stdout",
     "output_type": "stream",
     "text": [
      "[8.63773346e-10 5.75631596e-10 6.84046515e-10 1.03629329e-09\n",
      " 1.79040344e-09]\n"
     ]
    },
    {
     "data": {
      "image/png": "[encoded data removed]",
      "text/plain": [
       "<matplotlib.figure.Figure at 0x7fe438f280d0>"
      ]
     },
     "metadata": {},
     "output_type": "display_data"
    },
    {
     "name": "stdout",
     "output_type": "stream",
     "text": [
      "[[8.63773346e-10 0.00000000e+00 0.00000000e+00 0.00000000e+00\n",
      "  0.00000000e+00]\n",
      " [0.00000000e+00 5.75631596e-10 0.00000000e+00 0.00000000e+00\n",
      "  0.00000000e+00]\n",
      " [0.00000000e+00 0.00000000e+00 6.84046515e-10 0.00000000e+00\n",
      "  0.00000000e+00]\n",
      " [0.00000000e+00 0.00000000e+00 0.00000000e+00 1.03629329e-09\n",
      "  0.00000000e+00]\n",
      " [0.00000000e+00 0.00000000e+00 0.00000000e+00 0.00000000e+00\n",
      "  1.79040344e-09]]\n"
     ]
    }
   ],
   "source": [
    "zs = np.arange(0.5,3,0.5)\n",
    "def shear_noise(z, shape_noise = 0.3):\n",
    "    z_arr = np.arange(0.5,3,0.5)      \n",
    "    ngal_arr = np.array([8.83, 13.25, 11.15, 7.36, 4.26])\n",
    "    if z in z_arr:                    \n",
    "        ngal = ngal_arr[np.where(z_arr==z)]\n",
    "    else:                            \n",
    "        ngal = 0                      \n",
    "    return shape_noise**2./(ngal*1.18e7) \n",
    "print(shear_noise(zs))\n",
    "\n",
    "pl = io.Plotter(yscale='log')\n",
    "for i in range(len(zs)):\n",
    "    pl.add(ells,ps_fid[i,i],lw=3,color=\"C%d\"%i)\n",
    "    pl._ax.axhline(y=shear_noise(zs[i]),ls=\"--\",lw=2,color=\"C%d\"%i)\n",
    "    \n",
    "pl.done()\n",
    "\n",
    "Ncov = np.diag(shear_noise(zs))\n",
    "print(Ncov)"
   ]
  },
  {
   "cell_type": "code",
   "execution_count": 58,
   "metadata": {},
   "outputs": [
    {
     "name": "stdout",
     "output_type": "stream",
     "text": [
      "As As\n",
      "As omch2\n",
      "As mnu\n",
      "omch2 omch2\n",
      "omch2 mnu\n",
      "mnu mnu\n"
     ]
    }
   ],
   "source": [
    "import itertools\n",
    "Fisher = np.zeros((3,3))\n",
    "pcombs = itertools.combinations_with_replacement(vparams,2)\n",
    "fsky = 20000./41252.\n",
    "for param1,param2 in pcombs:\n",
    "    Fell = 0.\n",
    "    i = vparams.index(param1)\n",
    "    j = vparams.index(param2)\n",
    "    print(param1,param2)\n",
    "    for ell in ells[2:]:\n",
    "        Cov = ps_fid[:,:,ell]+Ncov\n",
    "        InvCov = np.linalg.inv(Cov)\n",
    "        dCov1 = dps[param1][:,:,ell]\n",
    "        dCov2 = dps[param2][:,:,ell]\n",
    "        \n",
    "        Fell += (2.*ell+1.) * fsky * np.trace(np.dot(np.dot(InvCov,dCov1),np.dot(InvCov,dCov2))) /2.\n",
    "        Fisher[i,j] = Fell\n",
    "        Fisher[j,i] = Fell\n",
    "                "
   ]
  },
  {
   "cell_type": "code",
   "execution_count": 59,
   "metadata": {},
   "outputs": [],
   "source": [
    "F = stats.FisherMatrix(Fisher,vparams)"
   ]
  },
  {
   "cell_type": "code",
   "execution_count": 60,
   "metadata": {},
   "outputs": [
    {
     "name": "stdout",
     "output_type": "stream",
     "text": [
      "                 As         omch2           mnu\n",
      "As     5.988493e+23  2.216212e+16 -5.359435e+14\n",
      "omch2  2.216212e+16  8.236925e+08 -1.982748e+07\n",
      "mnu   -5.359435e+14 -1.982748e+07  4.804501e+05\n"
     ]
    }
   ],
   "source": [
    "print(F)"
   ]
  },
  {
   "cell_type": "code",
   "execution_count": 61,
   "metadata": {},
   "outputs": [
    {
     "name": "stdout",
     "output_type": "stream",
     "text": [
      "{'As': 3.957248217266764e-11, 'omch2': 0.0005371753140453985, 'mnu': 0.035535363422503165}\n"
     ]
    }
   ],
   "source": [
    "print(F.sigmas())"
   ]
  },
  {
   "cell_type": "code",
   "execution_count": null,
   "metadata": {},
   "outputs": [],
   "source": []
  }
 ],
 "metadata": {
  "kernelspec": {
   "display_name": "Python 2",
   "language": "python",
   "name": "python2"
  },
  "language_info": {
   "codemirror_mode": {
    "name": "ipython",
    "version": 2
   },
   "file_extension": ".py",
   "mimetype": "text/x-python",
   "name": "python",
   "nbconvert_exporter": "python",
   "pygments_lexer": "ipython2",
   "version": "2.7.14"
  }
 },
 "nbformat": 4,
 "nbformat_minor": 2
}
