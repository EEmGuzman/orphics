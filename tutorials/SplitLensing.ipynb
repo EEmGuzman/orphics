{
 "cells": [
  {
   "cell_type": "code",
   "execution_count": 61,
   "metadata": {},
   "outputs": [
    {
     "name": "stdout",
     "output_type": "stream",
     "text": [
      "The autoreload extension is already loaded. To reload it, use:\n",
      "  %reload_ext autoreload\n"
     ]
    }
   ],
   "source": [
    "%load_ext autoreload\n",
    "%autoreload 2\n",
    "from __future__ import print_function\n",
    "from enlib import enmap,lensing as enlensing,fft\n",
    "import numpy as np\n",
    "from orphics import maps,io,stats,cosmology,lensing,symcoupling as sc\n"
   ]
  },
  {
   "cell_type": "code",
   "execution_count": 38,
   "metadata": {},
   "outputs": [
    {
     "name": "stderr",
     "output_type": "stream",
     "text": [
      "WARNING:root:accuracy parameters are changed globally, not yet per parameter set\n"
     ]
    },
    {
     "name": "stdout",
     "output_type": "stream",
     "text": [
      "Generating theory Cls...\n"
     ]
    }
   ],
   "source": [
    "deg = 20.\n",
    "px = 1.5\n",
    "shape,wcs,modlmap,cc,mgen = maps.flat_sim(deg,px,lmax=6000,lensed=False,pol=False)"
   ]
  },
  {
   "cell_type": "code",
   "execution_count": 48,
   "metadata": {},
   "outputs": [],
   "source": [
    "theory = cc.theory\n",
    "lmax = modlmap.max()\n",
    "ells = np.arange(0,lmax,1)\n",
    "ps_kk = (theory.gCl('kk',ells)).reshape((1,1,ells.size))\n",
    "noise_rms = 10.*np.pi/180./60.\n",
    "beam = 1.5\n",
    "ps_n = ps_kk*0.+noise_rms**2.\n",
    "kgen = maps.MapGen(shape,wcs,ps_kk)\n",
    "ngen1 = maps.MapGen(shape,wcs,ps_n*4.)\n",
    "ngen2 = maps.MapGen(shape,wcs,ps_n*4.)\n",
    "ngen3 = maps.MapGen(shape,wcs,ps_n*4.)\n",
    "ngen4 = maps.MapGen(shape,wcs,ps_n*4.)\n",
    "\n",
    "kbeam = maps.gauss_beam(modlmap,beam)"
   ]
  },
  {
   "cell_type": "code",
   "execution_count": 49,
   "metadata": {},
   "outputs": [],
   "source": [
    "def lens(cmb,kappa):\n",
    "    phi = lensing.kappa_to_phi(kappa,modlmap,return_fphi=False)\n",
    "    grad_phi = enmap.grad(phi)\n",
    "    return enlensing.lens_map(cmb, grad_phi, order=5, mode=\"spline\", border=\"cyclic\", trans=False, deriv=False, h=1e-7)"
   ]
  },
  {
   "cell_type": "code",
   "execution_count": 50,
   "metadata": {},
   "outputs": [],
   "source": [
    "tellmin = 100\n",
    "tellmax = 3000\n",
    "kellmin = 20\n",
    "kellmax = 2500\n",
    "\n",
    "tmask = maps.mask_kspace(shape,wcs,lmin=tellmin,lmax=tellmax)\n",
    "kmask = maps.mask_kspace(shape,wcs,lmin=kellmin,lmax=kellmax)\n",
    "\n",
    "\n",
    "#qest_split = lensing.qest(shape,wcs,theory,noise2d=maps.interp(ells,ps_n.reshape(-1))(modlmap)*4.,beam2d=kbeam,kmask=tmask,noise2d_P=None,kmask_P=None,kmask_K=kmask,pol=False,grad_cut=None,unlensed_equals_lensed=True,bigell=9000)\n",
    "n2dtt = maps.interp(ells,ps_n.reshape(-1))(modlmap)\n",
    "qest_coadd = lensing.qest(shape,wcs,theory,noise2d=n2dtt,beam2d=kbeam,kmask=tmask,noise2d_P=None,kmask_P=None,kmask_K=kmask,pol=False,grad_cut=None,unlensed_equals_lensed=True,bigell=9000)\n",
    "\n",
    "#qest_nonoise = lensing.qest(shape,wcs,theory,noise2d=modlmap*0.,beam2d=kbeam,kmask=tmask,noise2d_P=None,kmask_P=None,kmask_K=kmask,pol=False,grad_cut=None,unlensed_equals_lensed=True,bigell=9000)\n",
    "\n",
    "\n"
   ]
  },
  {
   "cell_type": "code",
   "execution_count": 51,
   "metadata": {},
   "outputs": [],
   "source": [
    "mc = sc.LensingModeCoupling(shape,wcs)\n",
    "AL = mc.AL(\"TT\",tmask,tmask,n2dtt,0,0,theory=theory,hdv=True,cache=True)\n",
    "cross = mc.cross(\"TT\",\"TT\",theory,tmask,tmask,noise_t=n2dtt,noise_e=0,noise_b=0,\n",
    "                 ynoise_t=None,ynoise_e=None,ynoise_b=None,\n",
    "                 cross_xnoise_t=0,cross_ynoise_t=0,\n",
    "                 cross_xnoise_e=None,cross_ynoise_e=None,\n",
    "                 cross_xnoise_b=None,cross_ynoise_b=None,\n",
    "                 theory_norm=None,hdv=True,save_expression=\"current\",validate=True,cache=True)\n",
    "\n",
    "Nlpred = mc.NL(AL,AL,cross)"
   ]
  },
  {
   "cell_type": "code",
   "execution_count": 59,
   "metadata": {},
   "outputs": [],
   "source": [
    "sl = lensing.SplitLensing(shape,wcs,qest_coadd)"
   ]
  },
  {
   "cell_type": "code",
   "execution_count": null,
   "metadata": {},
   "outputs": [
    {
     "name": "stdout",
     "output_type": "stream",
     "text": [
      "0\n",
      "1\n",
      "2\n",
      "3\n",
      "0.09375\n",
      "0\n",
      "1\n",
      "2\n",
      "3\n",
      "0.09375\n",
      "0\n",
      "1\n",
      "2\n",
      "3\n",
      "0.09375\n",
      "0\n",
      "1\n",
      "2\n",
      "3\n",
      "0.09375\n",
      "0\n",
      "1\n",
      "2\n",
      "3\n",
      "0.09375\n",
      "0\n",
      "1\n",
      "2\n",
      "3\n",
      "0.09375\n",
      "0\n",
      "1\n",
      "2\n",
      "3\n",
      "0.09375\n",
      "0\n",
      "1\n",
      "2\n"
     ]
    }
   ],
   "source": [
    "Nsims = 10\n",
    "bin_edges = np.linspace(kellmin,kellmax,40)\n",
    "\n",
    "st = stats.Stats()\n",
    "\n",
    "for i in range(Nsims):\n",
    "    \n",
    "    unlensed = mgen.get_map(seed=(i,1))\n",
    "    kappa = kgen.get_map(seed=(i,2))\n",
    "    lensed = maps.filter_map(lens(unlensed,kappa),kbeam)\n",
    "    \n",
    "    \n",
    "    obs_split1 = lensed.copy() + ngen1.get_map(seed=(i,3))\n",
    "    obs_split2 = lensed.copy() + ngen2.get_map(seed=(i,4))\n",
    "    obs_split3 = lensed.copy() + ngen3.get_map(seed=(i,5))\n",
    "    obs_split4 = lensed.copy() + ngen4.get_map(seed=(i,6))\n",
    "    \n",
    "    splits = np.stack([obs_split1,obs_split2,obs_split3,obs_split4])\n",
    "    obs_coadd = np.mean(splits,axis=0)\n",
    "    \n",
    "    psplit = 0.\n",
    "    \n",
    "    ksplits = fft.fft(splits,axes=[-2,-1])\n",
    "    psplit = sl.auto_free(ksplits,crosses=True)\n",
    "    \n",
    "    #recon_split1 = enmap.enmap(qest_coadd.kappa_from_map(\"TT\",obs_split1,T2DDataY=obs_split2),wcs)\n",
    "    #recon_split2 = enmap.enmap(qest_coadd.kappa_from_map(\"TT\",obs_split3,T2DDataY=obs_split4),wcs)\n",
    "    #psplit += maps.binned_power(recon_split1,imap2=recon_split2,bin_edges=bin_edges)\n",
    "    \n",
    "    \n",
    "    recon_coadd = enmap.enmap(qest_coadd.kappa_from_map(\"TT\",obs_coadd),wcs)\n",
    "    #recon_nonoise = enmap.enmap(qest_nonoise.kappa_from_map(\"TT\",lensed),wcs)\n",
    "    \n",
    "    pcoadd = maps.binned_power(recon_coadd,bin_edges=bin_edges)\n",
    "    #pnonoise = maps.binned_power(recon_nonoise,bin_edges=bin_edges)\n",
    "    \n",
    "    csplit1 = maps.binned_power(recon_split1,imap2=kappa,bin_edges=bin_edges)\n",
    "    csplit2 = maps.binned_power(recon_split2,imap2=kappa,bin_edges=bin_edges)\n",
    "    ccoadd =  maps.binned_power(recon_coadd,imap2=kappa,bin_edges=bin_edges)\n",
    "    #cnonoise =  maps.binned_power(recon_nonoise,imap2=kappa,bin_edges=bin_edges)\n",
    "    \n",
    "    st.add_to_stats(\"splitp\",psplit[1])\n",
    "    st.add_to_stats(\"pcoadd\",pcoadd[1])\n",
    "    #st.add_to_stats(\"pnonoise\",pnonoise[1])\n",
    "    st.add_to_stats(\"csplit1\",csplit1[1])\n",
    "    st.add_to_stats(\"csplit2\",csplit2[1])\n",
    "    st.add_to_stats(\"ccoadd\",ccoadd[1])\n",
    "    #st.add_to_stats(\"cnonoise\",ccoadd[1])\n",
    "    \n",
    "st.get_stats()\n",
    "        "
   ]
  },
  {
   "cell_type": "code",
   "execution_count": 57,
   "metadata": {},
   "outputs": [
    {
     "data": {
      "image/png": "[encoded data removed]",
      "text/plain": [
       "<Figure size 432x288 with 1 Axes>"
      ]
     },
     "metadata": {},
     "output_type": "display_data"
    }
   ],
   "source": [
    "cents = psplit[0]\n",
    "\n",
    "splitp = st.stats['splitp']['mean']\n",
    "coaddp = st.stats['pcoadd']['mean']\n",
    "esplitp = st.stats['splitp']['errmean']\n",
    "ecoaddp = st.stats['pcoadd']['errmean']\n",
    "esplitp1 = st.stats['splitp']['err']\n",
    "ecoaddp1 = st.stats['pcoadd']['err']\n",
    "#nonoisep = st.stats['pnonoise']['mean']\n",
    "\n",
    "clkk2d = maps.interp(ells,ps_kk.reshape(-1))(modlmap)\n",
    "clkk1dbins = stats.bin_in_annuli(clkk2d,modlmap,bin_edges)[1]\n",
    "\n",
    "#nlkk_split2d = qest_split.N.Nlkk['TT']+clkk2d\n",
    "nlkk_coadd2d = qest_coadd.N.Nlkk['TT']+clkk2d\n",
    "#nlkk_nonoise2d = qest_nonoise.N.Nlkk['TT']+clkk2d\n",
    "\n",
    "#nlkk_split = stats.bin_in_annuli(nlkk_split2d,modlmap,bin_edges)[1]\n",
    "nlkk_coadd = stats.bin_in_annuli(nlkk_coadd2d,modlmap,bin_edges)[1]\n",
    "#nlkk_nonoise = stats.bin_in_annuli(nlkk_nonoise2d,modlmap,bin_edges)[1]\n",
    "\n",
    "nlkk_pred = stats.bin_in_annuli(Nlpred+clkk2d,modlmap,bin_edges)[1]\n",
    "\n",
    "pl = io.Plotter(yscale='log',xlabel='$L$',ylabel='$C_L$')\n",
    "pl.add(ells,ps_kk.reshape(-1),lw=3,color='k')\n",
    "\n",
    "#pl.add(cents,nlkk_split,lw=2,ls=\"--\",label='split',color=\"C0\")\n",
    "pl.add(cents,nlkk_coadd,lw=2,ls=\"--\",label='coadd',color=\"C1\")\n",
    "#pl.add(cents,nlkk_nonoise,lw=2,ls=\"--\",label='nonoise',color=\"C2\")\n",
    "\n",
    "pl.add_err(cents,coaddp,yerr=ecoaddp,marker=\"o\",ls=\"none\",color=\"C1\")\n",
    "#pl.add(cents,nonoisep,marker=\"o\",ls=\"none\",color=\"C2\")\n",
    "pl.add_err(cents,splitp,yerr=esplitp,marker=\"o\",ls=\"none\",color=\"C0\")\n",
    "pl.add(cents,nlkk_pred,lw=2,ls=\"-\",label='split pred',color=\"C0\")\n",
    "\n",
    "pl.legend(loc='lower left')\n",
    "pl._ax.set_xlim(0,3000)\n",
    "pl._ax.set_ylim(3e-8,1e-6)\n",
    "pl.done()"
   ]
  },
  {
   "cell_type": "code",
   "execution_count": 54,
   "metadata": {},
   "outputs": [
    {
     "data": {
      "image/png": "[encoded data removed]",
      "text/plain": [
       "<Figure size 432x288 with 1 Axes>"
      ]
     },
     "metadata": {},
     "output_type": "display_data"
    }
   ],
   "source": [
    "\n",
    "csplit1 = st.stats['csplit1']['mean']\n",
    "csplit2 = st.stats['csplit2']['mean']\n",
    "ccoadd = st.stats['ccoadd']['mean']\n",
    "#cnonoise = st.stats['cnonoise']['mean']\n",
    "\n",
    "pl = io.Plotter(yscale='log')\n",
    "pl.add(ells,ps_kk.reshape(-1),lw=3,color='k')\n",
    "pl.add(cents,csplit1,marker=\"o\",ls=\"none\",color=\"C0\",label=\"split12\")\n",
    "pl.add(cents,csplit2,marker=\"o\",ls=\"none\",color=\"C1\",label=\"split34\")\n",
    "pl.add(cents,ccoadd,marker=\"o\",ls=\"none\",color=\"C2\",label=\"coadd\")\n",
    "#pl.add(cents,cnonoise,marker=\"o\",ls=\"none\",color=\"C3\",label=\"nonoise\")\n",
    "\n",
    "pl.legend(loc='lower left')\n",
    "pl._ax.set_xlim(0,3000)\n",
    "pl.done()"
   ]
  },
  {
   "cell_type": "code",
   "execution_count": 58,
   "metadata": {},
   "outputs": [
    {
     "data": {
      "image/png": "[encoded data removed]",
      "text/plain": [
       "<Figure size 432x288 with 1 Axes>"
      ]
     },
     "metadata": {},
     "output_type": "display_data"
    }
   ],
   "source": [
    "pl = io.Plotter(xlabel='$L$',ylabel='$\\\\sigma(C^{\\\\mathrm{coadd}}_L)/\\\\sigma(C^{\\\\mathrm{split}}_L)$')\n",
    "pl.add(cents,esplitp1/ecoaddp1)\n",
    "pl.hline(y=1)\n",
    "pl.done()"
   ]
  },
  {
   "cell_type": "code",
   "execution_count": 56,
   "metadata": {},
   "outputs": [
    {
     "name": "stdout",
     "output_type": "stream",
     "text": [
      "16.687666336774193 8.783967857735481 1.899786816965459\n"
     ]
    }
   ],
   "source": [
    "def sn(clbins,errs):\n",
    "    return np.sqrt(np.sum(clbins**2./errs**2.))\n",
    "\n",
    "sncoadd = sn(clkk1dbins,ecoaddp1)\n",
    "snsplit = sn(clkk1dbins,esplitp1)\n",
    "print(sncoadd,snsplit,sncoadd/snsplit)"
   ]
  },
  {
   "cell_type": "code",
   "execution_count": null,
   "metadata": {},
   "outputs": [],
   "source": []
  }
 ],
 "metadata": {
  "kernelspec": {
   "display_name": "Python 2",
   "language": "python",
   "name": "python2"
  },
  "language_info": {
   "codemirror_mode": {
    "name": "ipython",
    "version": 2
   },
   "file_extension": ".py",
   "mimetype": "text/x-python",
   "name": "python",
   "nbconvert_exporter": "python",
   "pygments_lexer": "ipython2",
   "version": "2.7.14"
  }
 },
 "nbformat": 4,
 "nbformat_minor": 2
}
